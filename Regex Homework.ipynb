{
 "cells": [
  {
   "cell_type": "code",
   "execution_count": 2,
   "metadata": {
    "collapsed": false
   },
   "outputs": [],
   "source": [
    "#For Extractor:\n",
    "\n",
    "import re\n",
    "import string\n",
    "\n",
    "phonetext = \"8045551952, 804-555-1952, (804) 555-1952, 804.555.1952, (804)5551952\"\n",
    "\n",
    "def phone_numbers(entry):\n",
    "    return re.findall(r\"[\\d]{3}\\D*[\\d]{3}\\D*[\\d]{4}\", entry)"
   ]
  },
  {
   "cell_type": "code",
   "execution_count": 3,
   "metadata": {
    "collapsed": false
   },
   "outputs": [
    {
     "name": "stdout",
     "output_type": "stream",
     "text": [
      "['8045551952', '804-555-1952', '804) 555-1952', '804.555.1952', '804)5551952']\n"
     ]
    },
    {
     "data": {
      "text/plain": [
       "['8', '0', '4']"
      ]
     },
     "execution_count": 3,
     "metadata": {},
     "output_type": "execute_result"
    }
   ],
   "source": [
    "z = phone_numbers(phonetext)\n",
    "print(z)\n",
    "\n",
    "re.findall(\"[\\d]\", z[1])[0:3]"
   ]
  },
  {
   "cell_type": "code",
   "execution_count": 4,
   "metadata": {
    "collapsed": false,
    "scrolled": true
   },
   "outputs": [
    {
     "name": "stdout",
     "output_type": "stream",
     "text": [
      "['Hi ', 'there! ', \"We've \", 'got ', 'eight ', '6-packs, ', 'and ', '8 ', 'of ']\n"
     ]
    }
   ],
   "source": [
    "#For Seperator:\n",
    "wordtext = \"Hi there! We've got eight 6-packs, and 8 of us.\"\n",
    "\n",
    "def words(entry):\n",
    "    re.findall(r\"\\S*\", entry)\n",
    "\n",
    "print(re.findall(r\"\\S*.\\s\", wordtext))"
   ]
  },
  {
   "cell_type": "code",
   "execution_count": 5,
   "metadata": {
    "collapsed": false
   },
   "outputs": [
    {
     "data": {
      "text/plain": [
       "{'area_code': '804', 'number': '455-1952'}"
      ]
     },
     "execution_count": 5,
     "metadata": {},
     "output_type": "execute_result"
    }
   ],
   "source": [
    "#For Seperator:\n",
    "phones = \"8045551952, 801-155-1952, (802) 255-1952, 803.355.1952, (804)4551952\"\n",
    "\n",
    "def phone_numbers(entry):\n",
    "    a = {}\n",
    "    b = re.findall(r\"[\\d]{3}\\D*[\\d]{3}\\D*[\\d]{4}\", entry)\n",
    "#    print(b)\n",
    "    for _ in b:\n",
    "#        print(_)\n",
    "        a.update({\"area_code\": \"\".join(re.findall(\"[\\d]\", _)[0:3])})\n",
    "        first_three = \"\".join(re.findall(\"[\\d]\", _)[3:6])\n",
    "        last_four = \"\".join(re.findall(\"[\\d]\", _)[6:11])\n",
    "        a.update({\"number\": first_three + \"-\" + last_four})\n",
    "#        print(a)\n",
    "    return a\n",
    "\n",
    "phone_numbers(phones)"
   ]
  },
  {
   "cell_type": "code",
   "execution_count": 6,
   "metadata": {
    "collapsed": true
   },
   "outputs": [],
   "source": [
    "cashtest = \"$5,432,106.44\""
   ]
  },
  {
   "cell_type": "code",
   "execution_count": 18,
   "metadata": {
    "collapsed": false
   },
   "outputs": [
    {
     "data": {
      "text/plain": [
       "[('5,432,106', '432,', '.44')]"
      ]
     },
     "execution_count": 18,
     "metadata": {},
     "output_type": "execute_result"
    }
   ],
   "source": [
    "re.findall(r\"^\\$([0-9]{1,3},([0-9]{3},)*[0-9]{3}|[0-9]+)(.[0-9][0-9])?$\", cashtest)"
   ]
  },
  {
   "cell_type": "code",
   "execution_count": 19,
   "metadata": {
    "collapsed": true
   },
   "outputs": [],
   "source": [
    "def currency(entry):\n",
    "    a = {}\n",
    "    b = re.findall(r\"[\\d]{3}\\D*[\\d]{3}\\D*[\\d]{4}\", entry)\n",
    "    re.search(r\"\\$\")"
   ]
  },
  {
   "cell_type": "code",
   "execution_count": null,
   "metadata": {
    "collapsed": true
   },
   "outputs": [],
   "source": []
  }
 ],
 "metadata": {
  "kernelspec": {
   "display_name": "Python 3",
   "language": "python",
   "name": "python3"
  },
  "language_info": {
   "codemirror_mode": {
    "name": "ipython",
    "version": 3
   },
   "file_extension": ".py",
   "mimetype": "text/x-python",
   "name": "python",
   "nbconvert_exporter": "python",
   "pygments_lexer": "ipython3",
   "version": "3.5.0"
  }
 },
 "nbformat": 4,
 "nbformat_minor": 0
}
